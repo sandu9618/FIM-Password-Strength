{
 "cells": [
  {
   "cell_type": "code",
   "execution_count": 1,
   "metadata": {
    "collapsed": true
   },
   "outputs": [],
   "source": [
    "import numpy as np\n",
    "import pandas as pd\n",
    "import functions\n",
    "import define_\n",
    "from mlxtend.frequent_patterns import apriori\n",
    "from mlxtend.preprocessing import TransactionEncoder\n",
    "from mlxtend.frequent_patterns import association_rules\n"
   ]
  },
  {
   "cell_type": "code",
   "execution_count": 2,
   "outputs": [
    {
     "data": {
      "text/plain": "     a_to_z    A_to_Z    0_to_9    symboles     len    is_lower_only  \\\n0  a_to_z_4  A_to_Z_0  0_to_9_2  symboles_0   len_6  is_lower_only_0   \n1  a_to_z_6  A_to_Z_0  0_to_9_3  symboles_0   len_9  is_lower_only_0   \n2  a_to_z_4  A_to_Z_0  0_to_9_7  symboles_0  len_11  is_lower_only_0   \n3  a_to_z_4  A_to_Z_0  0_to_9_2  symboles_0   len_6  is_lower_only_0   \n4  a_to_z_6  A_to_Z_0  0_to_9_4  symboles_0  len_10  is_lower_only_0   \n\n     is_upper_only    is_numbers_only    strength_last  \n0  is_upper_only_0  is_numbers_only_0  strength_last_2  \n1  is_upper_only_0  is_numbers_only_0  strength_last_2  \n2  is_upper_only_0  is_numbers_only_0  strength_last_3  \n3  is_upper_only_0  is_numbers_only_0  strength_last_2  \n4  is_upper_only_0  is_numbers_only_0  strength_last_3  ",
      "text/html": "<div>\n<style scoped>\n    .dataframe tbody tr th:only-of-type {\n        vertical-align: middle;\n    }\n\n    .dataframe tbody tr th {\n        vertical-align: top;\n    }\n\n    .dataframe thead th {\n        text-align: right;\n    }\n</style>\n<table border=\"1\" class=\"dataframe\">\n  <thead>\n    <tr style=\"text-align: right;\">\n      <th></th>\n      <th>a_to_z</th>\n      <th>A_to_Z</th>\n      <th>0_to_9</th>\n      <th>symboles</th>\n      <th>len</th>\n      <th>is_lower_only</th>\n      <th>is_upper_only</th>\n      <th>is_numbers_only</th>\n      <th>strength_last</th>\n    </tr>\n  </thead>\n  <tbody>\n    <tr>\n      <th>0</th>\n      <td>a_to_z_4</td>\n      <td>A_to_Z_0</td>\n      <td>0_to_9_2</td>\n      <td>symboles_0</td>\n      <td>len_6</td>\n      <td>is_lower_only_0</td>\n      <td>is_upper_only_0</td>\n      <td>is_numbers_only_0</td>\n      <td>strength_last_2</td>\n    </tr>\n    <tr>\n      <th>1</th>\n      <td>a_to_z_6</td>\n      <td>A_to_Z_0</td>\n      <td>0_to_9_3</td>\n      <td>symboles_0</td>\n      <td>len_9</td>\n      <td>is_lower_only_0</td>\n      <td>is_upper_only_0</td>\n      <td>is_numbers_only_0</td>\n      <td>strength_last_2</td>\n    </tr>\n    <tr>\n      <th>2</th>\n      <td>a_to_z_4</td>\n      <td>A_to_Z_0</td>\n      <td>0_to_9_7</td>\n      <td>symboles_0</td>\n      <td>len_11</td>\n      <td>is_lower_only_0</td>\n      <td>is_upper_only_0</td>\n      <td>is_numbers_only_0</td>\n      <td>strength_last_3</td>\n    </tr>\n    <tr>\n      <th>3</th>\n      <td>a_to_z_4</td>\n      <td>A_to_Z_0</td>\n      <td>0_to_9_2</td>\n      <td>symboles_0</td>\n      <td>len_6</td>\n      <td>is_lower_only_0</td>\n      <td>is_upper_only_0</td>\n      <td>is_numbers_only_0</td>\n      <td>strength_last_2</td>\n    </tr>\n    <tr>\n      <th>4</th>\n      <td>a_to_z_6</td>\n      <td>A_to_Z_0</td>\n      <td>0_to_9_4</td>\n      <td>symboles_0</td>\n      <td>len_10</td>\n      <td>is_lower_only_0</td>\n      <td>is_upper_only_0</td>\n      <td>is_numbers_only_0</td>\n      <td>strength_last_3</td>\n    </tr>\n  </tbody>\n</table>\n</div>"
     },
     "execution_count": 2,
     "metadata": {},
     "output_type": "execute_result"
    }
   ],
   "source": [
    "dataSet = pd.read_csv(define_.DATA_FILE_PATH)\n",
    "dataSet.head()\n"
   ],
   "metadata": {
    "collapsed": false,
    "pycharm": {
     "name": "#%%\n"
    }
   }
  },
  {
   "cell_type": "code",
   "execution_count": 3,
   "outputs": [
    {
     "data": {
      "text/plain": "        0_to_9_0  0_to_9_1  0_to_9_10  0_to_9_11  0_to_9_12  0_to_9_13  \\\n0          False     False      False      False      False      False   \n1          False     False      False      False      False      False   \n2          False     False      False      False      False      False   \n3          False     False      False      False      False      False   \n4          False     False      False      False      False      False   \n...          ...       ...        ...        ...        ...        ...   \n150683     False      True      False      False      False      False   \n150684     False     False      False      False      False      False   \n150685     False     False      False      False      False      False   \n150686     False     False      False      False      False      False   \n150687     False      True      False      False      False      False   \n\n        0_to_9_14  0_to_9_15  0_to_9_16  0_to_9_17  ...  symboles_0  \\\n0           False      False      False      False  ...        True   \n1           False      False      False      False  ...        True   \n2           False      False      False      False  ...        True   \n3           False      False      False      False  ...        True   \n4           False      False      False      False  ...        True   \n...           ...        ...        ...        ...  ...         ...   \n150683      False      False      False      False  ...        True   \n150684      False      False      False      False  ...        True   \n150685      False      False      False      False  ...        True   \n150686      False      False      False      False  ...        True   \n150687      False      False      False      False  ...        True   \n\n        symboles_1  symboles_2  symboles_3  symboles_4  symboles_5  \\\n0            False       False       False       False       False   \n1            False       False       False       False       False   \n2            False       False       False       False       False   \n3            False       False       False       False       False   \n4            False       False       False       False       False   \n...            ...         ...         ...         ...         ...   \n150683       False       False       False       False       False   \n150684       False       False       False       False       False   \n150685       False       False       False       False       False   \n150686       False       False       False       False       False   \n150687       False       False       False       False       False   \n\n        symboles_6  symboles_7  symboles_8  symboles_9  \n0            False       False       False       False  \n1            False       False       False       False  \n2            False       False       False       False  \n3            False       False       False       False  \n4            False       False       False       False  \n...            ...         ...         ...         ...  \n150683       False       False       False       False  \n150684       False       False       False       False  \n150685       False       False       False       False  \n150686       False       False       False       False  \n150687       False       False       False       False  \n\n[150688 rows x 94 columns]",
      "text/html": "<div>\n<style scoped>\n    .dataframe tbody tr th:only-of-type {\n        vertical-align: middle;\n    }\n\n    .dataframe tbody tr th {\n        vertical-align: top;\n    }\n\n    .dataframe thead th {\n        text-align: right;\n    }\n</style>\n<table border=\"1\" class=\"dataframe\">\n  <thead>\n    <tr style=\"text-align: right;\">\n      <th></th>\n      <th>0_to_9_0</th>\n      <th>0_to_9_1</th>\n      <th>0_to_9_10</th>\n      <th>0_to_9_11</th>\n      <th>0_to_9_12</th>\n      <th>0_to_9_13</th>\n      <th>0_to_9_14</th>\n      <th>0_to_9_15</th>\n      <th>0_to_9_16</th>\n      <th>0_to_9_17</th>\n      <th>...</th>\n      <th>symboles_0</th>\n      <th>symboles_1</th>\n      <th>symboles_2</th>\n      <th>symboles_3</th>\n      <th>symboles_4</th>\n      <th>symboles_5</th>\n      <th>symboles_6</th>\n      <th>symboles_7</th>\n      <th>symboles_8</th>\n      <th>symboles_9</th>\n    </tr>\n  </thead>\n  <tbody>\n    <tr>\n      <th>0</th>\n      <td>False</td>\n      <td>False</td>\n      <td>False</td>\n      <td>False</td>\n      <td>False</td>\n      <td>False</td>\n      <td>False</td>\n      <td>False</td>\n      <td>False</td>\n      <td>False</td>\n      <td>...</td>\n      <td>True</td>\n      <td>False</td>\n      <td>False</td>\n      <td>False</td>\n      <td>False</td>\n      <td>False</td>\n      <td>False</td>\n      <td>False</td>\n      <td>False</td>\n      <td>False</td>\n    </tr>\n    <tr>\n      <th>1</th>\n      <td>False</td>\n      <td>False</td>\n      <td>False</td>\n      <td>False</td>\n      <td>False</td>\n      <td>False</td>\n      <td>False</td>\n      <td>False</td>\n      <td>False</td>\n      <td>False</td>\n      <td>...</td>\n      <td>True</td>\n      <td>False</td>\n      <td>False</td>\n      <td>False</td>\n      <td>False</td>\n      <td>False</td>\n      <td>False</td>\n      <td>False</td>\n      <td>False</td>\n      <td>False</td>\n    </tr>\n    <tr>\n      <th>2</th>\n      <td>False</td>\n      <td>False</td>\n      <td>False</td>\n      <td>False</td>\n      <td>False</td>\n      <td>False</td>\n      <td>False</td>\n      <td>False</td>\n      <td>False</td>\n      <td>False</td>\n      <td>...</td>\n      <td>True</td>\n      <td>False</td>\n      <td>False</td>\n      <td>False</td>\n      <td>False</td>\n      <td>False</td>\n      <td>False</td>\n      <td>False</td>\n      <td>False</td>\n      <td>False</td>\n    </tr>\n    <tr>\n      <th>3</th>\n      <td>False</td>\n      <td>False</td>\n      <td>False</td>\n      <td>False</td>\n      <td>False</td>\n      <td>False</td>\n      <td>False</td>\n      <td>False</td>\n      <td>False</td>\n      <td>False</td>\n      <td>...</td>\n      <td>True</td>\n      <td>False</td>\n      <td>False</td>\n      <td>False</td>\n      <td>False</td>\n      <td>False</td>\n      <td>False</td>\n      <td>False</td>\n      <td>False</td>\n      <td>False</td>\n    </tr>\n    <tr>\n      <th>4</th>\n      <td>False</td>\n      <td>False</td>\n      <td>False</td>\n      <td>False</td>\n      <td>False</td>\n      <td>False</td>\n      <td>False</td>\n      <td>False</td>\n      <td>False</td>\n      <td>False</td>\n      <td>...</td>\n      <td>True</td>\n      <td>False</td>\n      <td>False</td>\n      <td>False</td>\n      <td>False</td>\n      <td>False</td>\n      <td>False</td>\n      <td>False</td>\n      <td>False</td>\n      <td>False</td>\n    </tr>\n    <tr>\n      <th>...</th>\n      <td>...</td>\n      <td>...</td>\n      <td>...</td>\n      <td>...</td>\n      <td>...</td>\n      <td>...</td>\n      <td>...</td>\n      <td>...</td>\n      <td>...</td>\n      <td>...</td>\n      <td>...</td>\n      <td>...</td>\n      <td>...</td>\n      <td>...</td>\n      <td>...</td>\n      <td>...</td>\n      <td>...</td>\n      <td>...</td>\n      <td>...</td>\n      <td>...</td>\n      <td>...</td>\n    </tr>\n    <tr>\n      <th>150683</th>\n      <td>False</td>\n      <td>True</td>\n      <td>False</td>\n      <td>False</td>\n      <td>False</td>\n      <td>False</td>\n      <td>False</td>\n      <td>False</td>\n      <td>False</td>\n      <td>False</td>\n      <td>...</td>\n      <td>True</td>\n      <td>False</td>\n      <td>False</td>\n      <td>False</td>\n      <td>False</td>\n      <td>False</td>\n      <td>False</td>\n      <td>False</td>\n      <td>False</td>\n      <td>False</td>\n    </tr>\n    <tr>\n      <th>150684</th>\n      <td>False</td>\n      <td>False</td>\n      <td>False</td>\n      <td>False</td>\n      <td>False</td>\n      <td>False</td>\n      <td>False</td>\n      <td>False</td>\n      <td>False</td>\n      <td>False</td>\n      <td>...</td>\n      <td>True</td>\n      <td>False</td>\n      <td>False</td>\n      <td>False</td>\n      <td>False</td>\n      <td>False</td>\n      <td>False</td>\n      <td>False</td>\n      <td>False</td>\n      <td>False</td>\n    </tr>\n    <tr>\n      <th>150685</th>\n      <td>False</td>\n      <td>False</td>\n      <td>False</td>\n      <td>False</td>\n      <td>False</td>\n      <td>False</td>\n      <td>False</td>\n      <td>False</td>\n      <td>False</td>\n      <td>False</td>\n      <td>...</td>\n      <td>True</td>\n      <td>False</td>\n      <td>False</td>\n      <td>False</td>\n      <td>False</td>\n      <td>False</td>\n      <td>False</td>\n      <td>False</td>\n      <td>False</td>\n      <td>False</td>\n    </tr>\n    <tr>\n      <th>150686</th>\n      <td>False</td>\n      <td>False</td>\n      <td>False</td>\n      <td>False</td>\n      <td>False</td>\n      <td>False</td>\n      <td>False</td>\n      <td>False</td>\n      <td>False</td>\n      <td>False</td>\n      <td>...</td>\n      <td>True</td>\n      <td>False</td>\n      <td>False</td>\n      <td>False</td>\n      <td>False</td>\n      <td>False</td>\n      <td>False</td>\n      <td>False</td>\n      <td>False</td>\n      <td>False</td>\n    </tr>\n    <tr>\n      <th>150687</th>\n      <td>False</td>\n      <td>True</td>\n      <td>False</td>\n      <td>False</td>\n      <td>False</td>\n      <td>False</td>\n      <td>False</td>\n      <td>False</td>\n      <td>False</td>\n      <td>False</td>\n      <td>...</td>\n      <td>True</td>\n      <td>False</td>\n      <td>False</td>\n      <td>False</td>\n      <td>False</td>\n      <td>False</td>\n      <td>False</td>\n      <td>False</td>\n      <td>False</td>\n      <td>False</td>\n    </tr>\n  </tbody>\n</table>\n<p>150688 rows × 94 columns</p>\n</div>"
     },
     "execution_count": 3,
     "metadata": {},
     "output_type": "execute_result"
    }
   ],
   "source": [
    "te = TransactionEncoder()\n",
    "te_ary = te.fit(dataSet.to_numpy()).transform(dataSet.to_numpy())\n",
    "transformed_df = pd.DataFrame(te_ary, columns=te.columns_)\n",
    "transformed_df"
   ],
   "metadata": {
    "collapsed": false,
    "pycharm": {
     "name": "#%%\n"
    }
   }
  },
  {
   "cell_type": "code",
   "execution_count": 4,
   "outputs": [],
   "source": [
    "freqItemsets = apriori(transformed_df, min_support=0.1, use_colnames=True)\n",
    "freqItemsets.to_csv(define_.FREQ_ITEMS_G5_TRAIN_FILE_PATH)"
   ],
   "metadata": {
    "collapsed": false,
    "pycharm": {
     "name": "#%%\n"
    }
   }
  },
  {
   "cell_type": "code",
   "execution_count": 5,
   "outputs": [
    {
     "data": {
      "text/plain": "     index        antecedents  \\\n0        9  [strength_last_2]   \n1       21  [strength_last_2]   \n2       33  [strength_last_2]   \n3       67  [strength_last_2]   \n4       69  [strength_last_3]   \n..     ...                ...   \n352  13371  [strength_last_2]   \n353  13497  [strength_last_2]   \n354  13623  [strength_last_2]   \n355  13749  [strength_last_2]   \n356  13875  [strength_last_2]   \n\n                                           consequents  antecedent support  \\\n0                                           [0_to_9_1]            0.672980   \n1                                           [0_to_9_2]            0.672980   \n2                                           [0_to_9_3]            0.672980   \n3                                           [A_to_Z_0]            0.672980   \n4                                           [A_to_Z_0]            0.181083   \n..                                                 ...                 ...   \n352  [is_lower_only_0, A_to_Z_0, is_numbers_only_0,...            0.672980   \n353  [is_lower_only_0, A_to_Z_0, is_numbers_only_0,...            0.672980   \n354  [is_lower_only_0, len_10, A_to_Z_0, is_numbers...            0.672980   \n355  [len_8, is_lower_only_0, A_to_Z_0, is_numbers_...            0.672980   \n356  [is_lower_only_0, len_9, A_to_Z_0, is_numbers_...            0.672980   \n\n     consequent support   support  confidence      lift  leverage  conviction  \n0              0.173219  0.143708    0.213539  1.232771  0.027135    1.051268  \n1              0.249681  0.220927    0.328281  1.314800  0.052896    1.117013  \n2              0.247684  0.200666    0.298176  1.203856  0.033980    1.071944  \n3              0.870978  0.664399    0.987250  1.133495  0.078248   10.119162  \n4              0.870978  0.175396    0.968593  1.112075  0.017676    4.108064  \n..                  ...       ...         ...       ...       ...         ...  \n352            0.185191  0.158360    0.235312  1.270648  0.033731    1.065545  \n353            0.149461  0.134934    0.200503  1.341505  0.034350    1.063842  \n354            0.201728  0.150795    0.224071  1.110756  0.015036    1.028795  \n355            0.163172  0.133269    0.198028  1.213617  0.023458    1.043463  \n356            0.210521  0.173564    0.257904  1.225072  0.031887    1.063849  \n\n[357 rows x 10 columns]",
      "text/html": "<div>\n<style scoped>\n    .dataframe tbody tr th:only-of-type {\n        vertical-align: middle;\n    }\n\n    .dataframe tbody tr th {\n        vertical-align: top;\n    }\n\n    .dataframe thead th {\n        text-align: right;\n    }\n</style>\n<table border=\"1\" class=\"dataframe\">\n  <thead>\n    <tr style=\"text-align: right;\">\n      <th></th>\n      <th>index</th>\n      <th>antecedents</th>\n      <th>consequents</th>\n      <th>antecedent support</th>\n      <th>consequent support</th>\n      <th>support</th>\n      <th>confidence</th>\n      <th>lift</th>\n      <th>leverage</th>\n      <th>conviction</th>\n    </tr>\n  </thead>\n  <tbody>\n    <tr>\n      <th>0</th>\n      <td>9</td>\n      <td>[strength_last_2]</td>\n      <td>[0_to_9_1]</td>\n      <td>0.672980</td>\n      <td>0.173219</td>\n      <td>0.143708</td>\n      <td>0.213539</td>\n      <td>1.232771</td>\n      <td>0.027135</td>\n      <td>1.051268</td>\n    </tr>\n    <tr>\n      <th>1</th>\n      <td>21</td>\n      <td>[strength_last_2]</td>\n      <td>[0_to_9_2]</td>\n      <td>0.672980</td>\n      <td>0.249681</td>\n      <td>0.220927</td>\n      <td>0.328281</td>\n      <td>1.314800</td>\n      <td>0.052896</td>\n      <td>1.117013</td>\n    </tr>\n    <tr>\n      <th>2</th>\n      <td>33</td>\n      <td>[strength_last_2]</td>\n      <td>[0_to_9_3]</td>\n      <td>0.672980</td>\n      <td>0.247684</td>\n      <td>0.200666</td>\n      <td>0.298176</td>\n      <td>1.203856</td>\n      <td>0.033980</td>\n      <td>1.071944</td>\n    </tr>\n    <tr>\n      <th>3</th>\n      <td>67</td>\n      <td>[strength_last_2]</td>\n      <td>[A_to_Z_0]</td>\n      <td>0.672980</td>\n      <td>0.870978</td>\n      <td>0.664399</td>\n      <td>0.987250</td>\n      <td>1.133495</td>\n      <td>0.078248</td>\n      <td>10.119162</td>\n    </tr>\n    <tr>\n      <th>4</th>\n      <td>69</td>\n      <td>[strength_last_3]</td>\n      <td>[A_to_Z_0]</td>\n      <td>0.181083</td>\n      <td>0.870978</td>\n      <td>0.175396</td>\n      <td>0.968593</td>\n      <td>1.112075</td>\n      <td>0.017676</td>\n      <td>4.108064</td>\n    </tr>\n    <tr>\n      <th>...</th>\n      <td>...</td>\n      <td>...</td>\n      <td>...</td>\n      <td>...</td>\n      <td>...</td>\n      <td>...</td>\n      <td>...</td>\n      <td>...</td>\n      <td>...</td>\n      <td>...</td>\n    </tr>\n    <tr>\n      <th>352</th>\n      <td>13371</td>\n      <td>[strength_last_2]</td>\n      <td>[is_lower_only_0, A_to_Z_0, is_numbers_only_0,...</td>\n      <td>0.672980</td>\n      <td>0.185191</td>\n      <td>0.158360</td>\n      <td>0.235312</td>\n      <td>1.270648</td>\n      <td>0.033731</td>\n      <td>1.065545</td>\n    </tr>\n    <tr>\n      <th>353</th>\n      <td>13497</td>\n      <td>[strength_last_2]</td>\n      <td>[is_lower_only_0, A_to_Z_0, is_numbers_only_0,...</td>\n      <td>0.672980</td>\n      <td>0.149461</td>\n      <td>0.134934</td>\n      <td>0.200503</td>\n      <td>1.341505</td>\n      <td>0.034350</td>\n      <td>1.063842</td>\n    </tr>\n    <tr>\n      <th>354</th>\n      <td>13623</td>\n      <td>[strength_last_2]</td>\n      <td>[is_lower_only_0, len_10, A_to_Z_0, is_numbers...</td>\n      <td>0.672980</td>\n      <td>0.201728</td>\n      <td>0.150795</td>\n      <td>0.224071</td>\n      <td>1.110756</td>\n      <td>0.015036</td>\n      <td>1.028795</td>\n    </tr>\n    <tr>\n      <th>355</th>\n      <td>13749</td>\n      <td>[strength_last_2]</td>\n      <td>[len_8, is_lower_only_0, A_to_Z_0, is_numbers_...</td>\n      <td>0.672980</td>\n      <td>0.163172</td>\n      <td>0.133269</td>\n      <td>0.198028</td>\n      <td>1.213617</td>\n      <td>0.023458</td>\n      <td>1.043463</td>\n    </tr>\n    <tr>\n      <th>356</th>\n      <td>13875</td>\n      <td>[strength_last_2]</td>\n      <td>[is_lower_only_0, len_9, A_to_Z_0, is_numbers_...</td>\n      <td>0.672980</td>\n      <td>0.210521</td>\n      <td>0.173564</td>\n      <td>0.257904</td>\n      <td>1.225072</td>\n      <td>0.031887</td>\n      <td>1.063849</td>\n    </tr>\n  </tbody>\n</table>\n<p>357 rows × 10 columns</p>\n</div>"
     },
     "execution_count": 5,
     "metadata": {},
     "output_type": "execute_result"
    }
   ],
   "source": [
    "rules = association_rules(freqItemsets, metric=\"confidence\", min_threshold=0.1)\n",
    "rules = rules[(rules['antecedents'] == {'strength_last_1'}) |\n",
    "                (rules['antecedents'] == {'strength_last_2'}) |\n",
    "                (rules['antecedents'] == {'strength_last_3'}) |\n",
    "                (rules['antecedents'] == {'strength_last_4'}) |\n",
    "                (rules['antecedents'] == {'strength_last_5'}) ]\n",
    "type(rules)\n",
    "rules['antecedents'] = rules.apply(lambda row: functions.convertToStringList(str(list(row['antecedents']))), axis=1)\n",
    "rules['consequents'] = rules.apply(lambda row: functions.convertToStringList(str(list(row['consequents']))), axis=1)\n",
    "rules.reset_index(inplace=True)\n",
    "rules.to_csv(define_.FINAL_RULES_G5_TRAIN_FILE_PATH, index=False)\n",
    "rules"
   ],
   "metadata": {
    "collapsed": false,
    "pycharm": {
     "name": "#%%\n"
    }
   }
  },
  {
   "cell_type": "code",
   "execution_count": 6,
   "outputs": [],
   "source": [
    "cols = dataSet.columns\n",
    "featureList = []\n",
    "for col in cols:\n",
    "    counts = 20\n",
    "    if 'is_' in col:\n",
    "        counts = 2\n",
    "    if 'str' in col:\n",
    "        counts = 5\n",
    "    for i in range(counts):\n",
    "        featureList.append(col+'_'+str(i))\n",
    "\n",
    "oneHotEncodedDF = pd.DataFrame(functions.oneHot(rules,featureList), columns=featureList)\n",
    "oneHotEncodedDF.to_csv(define_.Train_G5_ENCODED)\n"
   ],
   "metadata": {
    "collapsed": false,
    "pycharm": {
     "name": "#%%\n"
    }
   }
  },
  {
   "cell_type": "code",
   "execution_count": 7,
   "outputs": [
    {
     "name": "stdout",
     "output_type": "stream",
     "text": [
      "Index(['a_to_z_0', 'a_to_z_1', 'a_to_z_2', 'a_to_z_3', 'a_to_z_4', 'a_to_z_5',\n",
      "       'a_to_z_6', 'a_to_z_7', 'a_to_z_8', 'a_to_z_9',\n",
      "       ...\n",
      "       'is_lower_only_1', 'is_upper_only_0', 'is_upper_only_1',\n",
      "       'is_numbers_only_0', 'is_numbers_only_1', 'strength_last_0',\n",
      "       'strength_last_1', 'strength_last_2', 'strength_last_3',\n",
      "       'strength_last_4'],\n",
      "      dtype='object', length=111)\n"
     ]
    }
   ],
   "source": [
    "print(oneHotEncodedDF.columns)\n"
   ],
   "metadata": {
    "collapsed": false,
    "pycharm": {
     "name": "#%%\n"
    }
   }
  }
 ],
 "metadata": {
  "kernelspec": {
   "display_name": "Python 3",
   "language": "python",
   "name": "python3"
  },
  "language_info": {
   "codemirror_mode": {
    "name": "ipython",
    "version": 2
   },
   "file_extension": ".py",
   "mimetype": "text/x-python",
   "name": "python",
   "nbconvert_exporter": "python",
   "pygments_lexer": "ipython2",
   "version": "2.7.6"
  }
 },
 "nbformat": 4,
 "nbformat_minor": 0
}